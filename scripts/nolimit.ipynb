{
 "cells": [
  {
   "cell_type": "code",
   "execution_count": 20,
   "id": "638b9b23-4cdc-4f88-ba49-618fb43c694a",
   "metadata": {
    "tags": []
   },
   "outputs": [],
   "source": [
    "import os\n",
    "import tiktoken\n",
    "from langchain.document_loaders import UnstructuredFileLoader\n",
    "from langchain.chains.summarize import load_summarize_chain\n",
    "from langchain import OpenAI\n",
    "from langchain.text_splitter import RecursiveCharacterTextSplitter\n",
    "from langchain.prompts import PromptTemplate, ChatPromptTemplate\n",
    "\n",
    "from langchain import OpenAI\n",
    "llm = OpenAI(openai_api_key=os.environ.get(\"OPENAI_API_KEY\"))\n",
    "\n",
    "loader = UnstructuredFileLoader('yellow-wallpaper.txt')\n",
    "document = loader.load()\n"
   ]
  },
  {
   "cell_type": "code",
   "execution_count": 16,
   "id": "f9a68bab-759e-4165-be80-373eaa727031",
   "metadata": {
    "tags": []
   },
   "outputs": [],
   "source": [
    "from langchain.text_splitter import RecursiveCharacterTextSplitter\n",
    "char_text_splitter = RecursiveCharacterTextSplitter(chunk_size=500, chunk_overlap=20)\n",
    "docs = char_text_splitter.split_documents(document)"
   ]
  },
  {
   "cell_type": "code",
   "execution_count": 17,
   "id": "5ab944ca-9492-444e-8db1-28bec1972bce",
   "metadata": {},
   "outputs": [
    {
     "data": {
      "text/plain": [
       "\" The Yellow Wallpaper by Charlotte Perkins Gilman is an eBook published in 1999 and updated in 2021. It follows the story of a married couple who take up residence in an ancestral hall. The woman develops postpartum depression and her husband's lack of belief in anything outside the tangible makes it difficult for her to get better. Her obsession with the yellow wallpaper leads to her descent into madness. The eBook is available to be copied, given away or reused under the Project Gutenberg License.\""
      ]
     },
     "execution_count": 17,
     "metadata": {},
     "output_type": "execute_result"
    }
   ],
   "source": [
    "model = load_summarize_chain(llm=llm, chain_type=\"map_reduce\")\n",
    "model.run(docs[0:5])"
   ]
  },
  {
   "cell_type": "code",
   "execution_count": 18,
   "id": "3af5b411-88b5-47a9-90e7-d9ffdeb03abb",
   "metadata": {
    "tags": []
   },
   "outputs": [
    {
     "data": {
      "text/plain": [
       "'\\n\\nThe Yellow Wallpaper is a classic short story by Charlotte Perkins Gilman, first published in 1892. It tells the story of a woman suffering from postpartum depression and her husband’s attempts to subdue her mental illness. The story takes place in a colonial mansion, an ancestral hall that is believed to be haunted, and follows John and his wife as she slowly descends into insanity. John is practical in the extreme, having no patience with faith, an intense horror of superstition, and openly scoffing at any talk of things not to be felt and seen and put down in figures. As a physician, he does not believe his wife is truly sick, and this lack of belief further exacerbates her condition as she becomes increasingly obsessed with the patterns in the yellow wallpaper of her confinement, eventually descending into madness. The story serves as a critique of the medical treatment of women in the 19th century and is freely available as an eBook from Project Gutenberg, with no cost or restrictions.'"
      ]
     },
     "execution_count": 18,
     "metadata": {},
     "output_type": "execute_result"
    }
   ],
   "source": [
    "model = load_summarize_chain(llm=llm, chain_type=\"refine\")\n",
    "model.run(docs[0:5])"
   ]
  },
  {
   "cell_type": "markdown",
   "id": "68faccd6-bdf0-4348-8337-97019440132d",
   "metadata": {
    "tags": []
   },
   "source": [
    "> Achieved one iteration"
   ]
  },
  {
   "cell_type": "code",
   "execution_count": 21,
   "id": "e9461926-ce7e-4c03-b7ea-cb8caf7664cc",
   "metadata": {
    "tags": []
   },
   "outputs": [],
   "source": [
    "def read_file_create_chunks(fname, chunkSize, overlap):\n",
    "    tt_encoding = tiktoken.get_encoding(\"gpt2\")\n",
    "    with open(fname, 'r', encoding=\"utf8\") as f:\n",
    "        file_text = f.read()\n",
    "    \n",
    "    tokens = tt_encoding.encode(file_text)\n",
    "    total_tokens = len(tokens)\n",
    "    \n",
    "    chunks = []\n",
    "    for i in range(0, total_tokens, chunkSize-overlap):\n",
    "        chunk = tokens[i:i+chunkSize]\n",
    "        chunks.append(chunk)\n",
    "    return chunks\n",
    "\n",
    "    "
   ]
  },
  {
   "cell_type": "code",
   "execution_count": 27,
   "id": "2fe62eac-6028-4f23-ac05-2d26ccd66d01",
   "metadata": {
    "tags": []
   },
   "outputs": [],
   "source": [
    "    chunks = read_file_create_chunks(\"yellow-wallpaper.txt\", 3500, 50)"
   ]
  },
  {
   "cell_type": "code",
   "execution_count": 28,
   "id": "be3463b1-320c-42d4-bd25-1bcaab7f66d0",
   "metadata": {
    "tags": []
   },
   "outputs": [
    {
     "name": "stdout",
     "output_type": "stream",
     "text": [
      "[\"\\n\\n1. John - the narrator's husband, a physician \\n2. The narrator \\n3. John's sister \\n4. Cousin Henry \\n5. Julia \\n6. Mary - the nurse \\n7. The narrator's baby\", \"\\n\\n1. A woman behind the wallpaper who is trying to escape \\n2. John, the narrator's husband \\n3. Jennie, the servant\", ' work.\\n\\n1.E.4. Do not unlink or detach or remove the full Project Gutenberg-tm\\nLicense terms from this work, or any files containing a part of this\\nwork or any other work associated with Project Gutenberg-tm.\\n\\n1.E.5. Do not copy, display, perform, distribute or redistribute this\\nelectronic work, or any part of this electronic work, without\\nprominently displaying the sentence set forth in paragraph 1.E.1 with\\nactive links or immediate access to the full terms of the Project\\nGutenberg-tm License.\\n\\n1.E.6. You may convert to and distribute this work in any binary,\\ncompressed, marked up, nonproprietary or proprietary form, including\\nany word processing or hypertext form. However, if you provide access\\nto or distribute copies of a Project Gutenberg-tm work in a format\\nother than \"Plain Vanilla ASCII\" or other format used in the official\\nversion posted on the official Project Gutenberg-tm web site\\n(www.gutenberg.org), you must, at no additional cost, fee or expense\\nto the user, provide a copy, a means of exporting a copy, or a means\\nof obtaining a copy upon request, of the work in its original \"Plain\\nVanilla ASCII\" or other form. Any alternate format must include the\\nfull Project Gutenberg-tm License as specified in paragraph 1.E.1.\\n\\n1.E.7. Do not charge a fee for access to, viewing, displaying,\\nperforming, copying or distributing any Project Gutenberg-tm works\\nunless you comply with paragraph 1.E.8 or', ' */\\n    }\\n}']\n"
     ]
    }
   ],
   "source": [
    "\n",
    "\n",
    "    final_response = []\n",
    "    tt_encoding = tiktoken.get_encoding(\"gpt2\")\n",
    "\n",
    "    for index, chunk in enumerate(chunks):\n",
    "        response = openai.Completion.create(\n",
    "            model = \"text-davinci-002\",\n",
    "            prompt = f\"\"\"\n",
    "                Please identify the characters in the novel with the text: {tt_encoding.decode(chunk)}\n",
    "            \"\"\",\n",
    "            temperature = 0,\n",
    "            max_tokens = 350\n",
    "        )\n",
    "        final_response.append(response[\"choices\"][0][\"text\"])\n",
    "\n",
    "    print(final_response)"
   ]
  },
  {
   "cell_type": "code",
   "execution_count": 29,
   "id": "74d6abc8-ba5f-49fa-951a-de60cbcfe911",
   "metadata": {
    "tags": []
   },
   "outputs": [],
   "source": [
    "    chunks = read_file_create_chunks(\"design.txt\", 500, 50)"
   ]
  },
  {
   "cell_type": "code",
   "execution_count": 32,
   "id": "f8e7da24-737b-4a06-a404-6dc758ab0523",
   "metadata": {
    "tags": []
   },
   "outputs": [
    {
     "name": "stdout",
     "output_type": "stream",
     "text": [
      "[' such as location, availability, and charging rates.\\n\\nCharging Session Management: The Driver Service facilitates the creation and management of charging sessions, handling tasks such as user authentication, payment processing, and session monitoring.\\n\\nUser Profile Management: The Driver Service provides users with the ability to create and manage their personal profiles, including preferences, contact information, and payment methods.\\n\\nThe Driver Service is built on top of the OCPI 2.2.1 standard, which defines the role of an e-Mobility Service Provider (eMSP). As such, the Driver Service adheres to the requirements and guidelines set forth by OCPI.\\n\\nLocation Service\\nThe Location Service is responsible for managing and storing location-related information, such as charger locations, sites, and organizations. This service exposes APIs that allow CPOs to efficiently onboard and manage this information.\\n\\nThe Location Service enables CPOs to register new locations into the system. This includes providing essential details such as address, geographic coordinates, and time zone. It also enables CPOs to update and maintain location information as needed.\\n\\nIn addition, the Location Service provides CPOs with the ability to manage the organizational hierarchy of their locations. This includes defining sites and organizations, and assigning chargers to these sites and organizations.\\n\\nCharging Station Service\\nThe Charging Station Service is responsible for managing and storing charger-related information, such as charger specifications, supported protocols, and communication endpoints. This service exposes APIs that allow CPOs to efficiently onboard and manage this information.\\n\\nThe Charging Station Service enables CPOs to register new chargers into the system. This includes providing essential details such as charger specifications, supported protocols, and communication endpoints. It also enables CPOs to update and maintain charger information as needed.\\n\\nSession Service\\nThe Session Service is responsible for managing and storing information related to charging sessions, such as user authentication, payment processing, and session monitoring. This service exposes APIs that allow CPOs to efficiently manage this information.\\n\\nThe Session Service enables CPOs to authenticate users and process payments for charging sessions. It also provides CPOs with the ability to monitor charging sessions in real-time, allowing them to intervene if necessary.\\n\\nUser Service\\nThe User Service is responsible for managing and storing information related to EV drivers, such as preferences, contact information, and payment methods. This service exposes', '\\n\\nSome of the key functionalities provided by the Driver Service include:\\n\\nCharging Station Discovery: The Driver Service enables drivers to discover available charging stations in their vicinity, providing information on station locations, available connectors, and pricing details.\\n\\nCharging Session Initiation: EV drivers can initiate charging sessions through the mobile app, leveraging the APIs exposed by the Driver Service. This functionality allows drivers to conveniently start and stop charging their vehicles at compatible charging stations.\\n\\nReal-time Charging Information: The Driver Service offers real-time updates on charging session status, providing drivers with insights into charging progress, energy consumption, and estimated completion time.\\n\\nPayment and Billing: The Driver Service facilitates seamless payment processing for charging sessions. It enables drivers to view detailed billing information, make secure payments, and receive invoices or receipts directly through the mobile app.\\n\\nUser Account Management: EV drivers can create and manage their user accounts within the Driver Service, allowing them to personalize settings, track charging history, and access additional features and benefits.', '\\n\\nThe documentation is incomplete because it does not describe the charging duration, energy usage, charging rates, and any relevant events or actions that occur during the session.', '\\n\\nThe documentation is incomplete because it does not describe the existing system architecture, the technology stack, the event processing and message system design, the data model, or the interface/API definitions.', '\\n\\nThe various components talk to each other through REST endpoints. The endpoint URL and the format of the data and parameters used are described in the documentation.', '\\n\\nThe documentation is incomplete because it does not include information on how to escalate hardware and operating system monitoring, database monitoring, and application-level monitoring. Additionally, it does not include information on how to handle error messages, alerts, and events.']\n"
     ]
    }
   ],
   "source": [
    "    final_response = []\n",
    "    tt_encoding = tiktoken.get_encoding(\"gpt2\")\n",
    "\n",
    "    for index, chunk in enumerate(chunks):\n",
    "        response = openai.Completion.create(\n",
    "            model = \"text-davinci-002\",\n",
    "            prompt = f\"\"\"\n",
    "                Tell me what is incomplete about this documentation: {tt_encoding.decode(chunk)}\n",
    "            \"\"\",\n",
    "            temperature = 0,\n",
    "            max_tokens = 500\n",
    "        )\n",
    "        final_response.append(response[\"choices\"][0][\"text\"])\n",
    "\n",
    "    print(final_response)"
   ]
  },
  {
   "cell_type": "markdown",
   "id": "bc4c49f4-0bfc-4de6-a924-909ec7af5707",
   "metadata": {},
   "source": [
    "```python\n",
    "print(final_response)\n",
    "```"
   ]
  }
 ],
 "metadata": {
  "kernelspec": {
   "display_name": "Python 3 (ipykernel)",
   "language": "python",
   "name": "python3"
  },
  "language_info": {
   "codemirror_mode": {
    "name": "ipython",
    "version": 3
   },
   "file_extension": ".py",
   "mimetype": "text/x-python",
   "name": "python",
   "nbconvert_exporter": "python",
   "pygments_lexer": "ipython3",
   "version": "3.10.9"
  }
 },
 "nbformat": 4,
 "nbformat_minor": 5
}
